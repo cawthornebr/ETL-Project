{
 "cells": [
  {
   "cell_type": "code",
   "execution_count": 56,
   "metadata": {},
   "outputs": [],
   "source": [
    "# Dependencies\n",
    "from bs4 import BeautifulSoup as bs\n",
    "import requests\n",
    "import pandas as pd\n",
    "import pymongo\n",
    "import json"
   ]
  },
  {
   "cell_type": "code",
   "execution_count": 57,
   "metadata": {},
   "outputs": [],
   "source": [
    "# Initialize PyMongo to work with MongoDBs\n",
    "conn = 'mongodb://localhost:27017'\n",
    "client = pymongo.MongoClient(conn)"
   ]
  },
  {
   "cell_type": "code",
   "execution_count": 58,
   "metadata": {},
   "outputs": [],
   "source": [
    "# Define database and collection\n",
    "db = client.astronaut_db\n",
    "collection = db.facts"
   ]
  },
  {
   "cell_type": "code",
   "execution_count": 59,
   "metadata": {},
   "outputs": [],
   "source": [
    "# URL of page to be scraped\n",
    "url = 'https://www.archives.gov/research/alic/reference/space-timeline.html'"
   ]
  },
  {
   "cell_type": "code",
   "execution_count": 60,
   "metadata": {},
   "outputs": [
    {
     "name": "stdout",
     "output_type": "stream",
     "text": [
      "https://www.archives.gov/research/alic/reference/space-timeline.html\n"
     ]
    }
   ],
   "source": [
    "# Retrieve page with the requests module\n",
    "response = requests.get(url)\n",
    "print(response.url)"
   ]
  },
  {
   "cell_type": "code",
   "execution_count": 61,
   "metadata": {},
   "outputs": [],
   "source": [
    "# Create BeautifulSoup object; parse with 'html.parser'\n",
    "soup = bs(response.text,'html.parser')"
   ]
  },
  {
   "cell_type": "code",
   "execution_count": 62,
   "metadata": {},
   "outputs": [],
   "source": [
    "# Examine the results, then determine element that contains sought info\n",
    "#print(soup.prettify())"
   ]
  },
  {
   "cell_type": "code",
   "execution_count": 63,
   "metadata": {},
   "outputs": [],
   "source": [
    "# results are returned as an iterable list\n",
    "results = soup.find_all('div', class_=\"region\")\n",
    "#results"
   ]
  },
  {
   "cell_type": "code",
   "execution_count": 64,
   "metadata": {},
   "outputs": [],
   "source": [
    "#results = soup.find_all('div', class_=\"region\")\n",
    "#results"
   ]
  },
  {
   "cell_type": "code",
   "execution_count": 65,
   "metadata": {},
   "outputs": [
    {
     "name": "stdout",
     "output_type": "stream",
     "text": [
      "The length of the year list is 47 items\n"
     ]
    }
   ],
   "source": [
    "# Loop through returned results\n",
    "years = soup.find_all('strong')\n",
    "year_counts = []\n",
    "\n",
    "for year in years:\n",
    "    #print(year.text)\n",
    "    \n",
    "    year_counts.append(year.text) \n",
    "\n",
    "    \n",
    "    year_list_length = (len(year_counts))\n",
    "    \n",
    "print(f'The length of the year list is {year_list_length} items')"
   ]
  },
  {
   "cell_type": "code",
   "execution_count": 66,
   "metadata": {},
   "outputs": [],
   "source": [
    "year_counts.remove(year_counts[0])"
   ]
  },
  {
   "cell_type": "code",
   "execution_count": 67,
   "metadata": {},
   "outputs": [
    {
     "name": "stdout",
     "output_type": "stream",
     "text": [
      "[1957, 1958, 1960, 1961, 1962, 1965, 1966, 1967, 1968, 1969, 1970, 1971, 1972, 1973, 1975, 1976, 1977, 1979, 1980, 1981, 1983, 1984, 1985, 1986, 1989, 1990, 1992, 1993, 1994, 1995, 1997, 1998, 1999, 2000, 2001, 2003, 2004, 2005, 2006, 2007, 2008, 2009, 2010, 2011, 2012, 2013]\n"
     ]
    }
   ],
   "source": [
    "numbered_years = []\n",
    "\n",
    "for item in year_counts:\n",
    "    year_floated = int(item)\n",
    "    numbered_years.append(year_floated)\n",
    "    \n",
    "print(numbered_years)    "
   ]
  },
  {
   "cell_type": "code",
   "execution_count": 68,
   "metadata": {},
   "outputs": [
    {
     "name": "stdout",
     "output_type": "stream",
     "text": [
      "46\n"
     ]
    }
   ],
   "source": [
    "#print(year_counts)\n",
    "print(len(numbered_years))"
   ]
  },
  {
   "cell_type": "code",
   "execution_count": 69,
   "metadata": {
    "scrolled": false
   },
   "outputs": [
    {
     "name": "stdout",
     "output_type": "stream",
     "text": [
      "The length of the fact_list is 1 items\n",
      "The length of the fact_list is 2 items\n",
      "The length of the fact_list is 3 items\n",
      "The length of the fact_list is 4 items\n",
      "The length of the fact_list is 5 items\n",
      "The length of the fact_list is 6 items\n",
      "The length of the fact_list is 7 items\n",
      "The length of the fact_list is 8 items\n",
      "The length of the fact_list is 9 items\n",
      "The length of the fact_list is 10 items\n",
      "The length of the fact_list is 11 items\n",
      "The length of the fact_list is 12 items\n",
      "The length of the fact_list is 13 items\n",
      "The length of the fact_list is 14 items\n",
      "The length of the fact_list is 15 items\n",
      "The length of the fact_list is 16 items\n",
      "The length of the fact_list is 17 items\n",
      "The length of the fact_list is 18 items\n",
      "The length of the fact_list is 19 items\n",
      "The length of the fact_list is 20 items\n",
      "The length of the fact_list is 21 items\n",
      "The length of the fact_list is 22 items\n",
      "The length of the fact_list is 23 items\n",
      "The length of the fact_list is 24 items\n",
      "The length of the fact_list is 25 items\n",
      "The length of the fact_list is 26 items\n",
      "The length of the fact_list is 27 items\n",
      "The length of the fact_list is 28 items\n",
      "The length of the fact_list is 29 items\n",
      "The length of the fact_list is 30 items\n",
      "The length of the fact_list is 31 items\n",
      "The length of the fact_list is 32 items\n",
      "The length of the fact_list is 33 items\n",
      "The length of the fact_list is 34 items\n",
      "The length of the fact_list is 35 items\n",
      "The length of the fact_list is 36 items\n",
      "The length of the fact_list is 37 items\n",
      "The length of the fact_list is 38 items\n",
      "The length of the fact_list is 39 items\n",
      "The length of the fact_list is 40 items\n",
      "The length of the fact_list is 41 items\n",
      "The length of the fact_list is 42 items\n",
      "The length of the fact_list is 43 items\n",
      "The length of the fact_list is 44 items\n",
      "The length of the fact_list is 45 items\n",
      "The length of the fact_list is 46 items\n",
      "The length of the fact_list is 47 items\n",
      "The length of the fact_list is 48 items\n",
      "The length of the fact_list is 49 items\n",
      "The length of the fact_list is 50 items\n",
      "The length of the fact_list is 51 items\n",
      "The length of the fact_list is 52 items\n",
      "The length of the fact_list is 53 items\n",
      "The length of the fact_list is 54 items\n",
      "The length of the fact_list is 55 items\n",
      "The length of the fact_list is 56 items\n",
      "The length of the fact_list is 57 items\n",
      "The length of the fact_list is 58 items\n",
      "The length of the fact_list is 59 items\n"
     ]
    }
   ],
   "source": [
    "### Loop through returned results for fun facts\n",
    "fun_facts = soup.select('ul')\n",
    "#print(fun_facts)\n",
    " \n",
    "fact_list = []\n",
    "\n",
    "\n",
    "for fact in fun_facts:\n",
    "    first_li = fact('li')[0].text\n",
    "    #print(fact)\n",
    "    fact_list.append(first_li)\n",
    "    #print('------------------')\n",
    "    \n",
    "\n",
    "    fact_list_length = (len(fact_list))\n",
    "print(f'The length of the fact_list is {fact_list_length} items')\n",
    " "
   ]
  },
  {
   "cell_type": "code",
   "execution_count": 70,
   "metadata": {},
   "outputs": [],
   "source": [
    "#print(fact_list)"
   ]
  },
  {
   "cell_type": "code",
   "execution_count": 71,
   "metadata": {},
   "outputs": [],
   "source": [
    "updated_fact_list = fact_list[8:]\n",
    "#updated_fact_list"
   ]
  },
  {
   "cell_type": "code",
   "execution_count": 72,
   "metadata": {},
   "outputs": [],
   "source": [
    "usable_fact_list = updated_fact_list[:46]\n",
    "#usable_fact_list\n"
   ]
  },
  {
   "cell_type": "code",
   "execution_count": 73,
   "metadata": {},
   "outputs": [
    {
     "data": {
      "text/html": [
       "<div>\n",
       "<style scoped>\n",
       "    .dataframe tbody tr th:only-of-type {\n",
       "        vertical-align: middle;\n",
       "    }\n",
       "\n",
       "    .dataframe tbody tr th {\n",
       "        vertical-align: top;\n",
       "    }\n",
       "\n",
       "    .dataframe thead th {\n",
       "        text-align: right;\n",
       "    }\n",
       "</style>\n",
       "<table border=\"1\" class=\"dataframe\">\n",
       "  <thead>\n",
       "    <tr style=\"text-align: right;\">\n",
       "      <th></th>\n",
       "      <th>Year</th>\n",
       "      <th>Facts</th>\n",
       "    </tr>\n",
       "  </thead>\n",
       "  <tbody>\n",
       "    <tr>\n",
       "      <td>0</td>\n",
       "      <td>1957</td>\n",
       "      <td>October 4 - The Soviet Union launched the firs...</td>\n",
       "    </tr>\n",
       "    <tr>\n",
       "      <td>1</td>\n",
       "      <td>1958</td>\n",
       "      <td>January 31 - Explorer 1 was the first satellit...</td>\n",
       "    </tr>\n",
       "    <tr>\n",
       "      <td>2</td>\n",
       "      <td>1960</td>\n",
       "      <td>August 19 - The Soviet craft Sputnik 5 was lau...</td>\n",
       "    </tr>\n",
       "    <tr>\n",
       "      <td>3</td>\n",
       "      <td>1961</td>\n",
       "      <td>April 12 - Russian cosmonaut Yuri Gagarin beca...</td>\n",
       "    </tr>\n",
       "    <tr>\n",
       "      <td>4</td>\n",
       "      <td>1962</td>\n",
       "      <td>February 20 - Astronaut John Glenn became the ...</td>\n",
       "    </tr>\n",
       "  </tbody>\n",
       "</table>\n",
       "</div>"
      ],
      "text/plain": [
       "   Year                                              Facts\n",
       "0  1957  October 4 - The Soviet Union launched the firs...\n",
       "1  1958  January 31 - Explorer 1 was the first satellit...\n",
       "2  1960  August 19 - The Soviet craft Sputnik 5 was lau...\n",
       "3  1961  April 12 - Russian cosmonaut Yuri Gagarin beca...\n",
       "4  1962  February 20 - Astronaut John Glenn became the ..."
      ]
     },
     "execution_count": 73,
     "metadata": {},
     "output_type": "execute_result"
    }
   ],
   "source": [
    "df = pd.DataFrame({\"Year\": numbered_years, \"Facts\":usable_fact_list})\n",
    "df.head()"
   ]
  },
  {
   "cell_type": "code",
   "execution_count": 74,
   "metadata": {},
   "outputs": [],
   "source": [
    "df.to_csv('year_fact.csv', index=False)"
   ]
  },
  {
   "cell_type": "code",
   "execution_count": 75,
   "metadata": {},
   "outputs": [
    {
     "data": {
      "text/plain": [
       "<pymongo.results.InsertManyResult at 0x10b84be10>"
      ]
     },
     "execution_count": 75,
     "metadata": {},
     "output_type": "execute_result"
    }
   ],
   "source": [
    "data = df.to_dict(orient='records')  # Here's our added param..\n",
    "\n",
    "collection.insert_many(data)"
   ]
  },
  {
   "cell_type": "code",
   "execution_count": null,
   "metadata": {},
   "outputs": [],
   "source": []
  }
 ],
 "metadata": {
  "kernelspec": {
   "display_name": "Python 3",
   "language": "python",
   "name": "python3"
  },
  "language_info": {
   "codemirror_mode": {
    "name": "ipython",
    "version": 3
   },
   "file_extension": ".py",
   "mimetype": "text/x-python",
   "name": "python",
   "nbconvert_exporter": "python",
   "pygments_lexer": "ipython3",
   "version": "3.7.4"
  }
 },
 "nbformat": 4,
 "nbformat_minor": 2
}
